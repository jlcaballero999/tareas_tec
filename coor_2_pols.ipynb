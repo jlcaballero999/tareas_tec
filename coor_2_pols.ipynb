{
  "cells": [
    {
      "cell_type": "markdown",
      "metadata": {
        "id": "view-in-github",
        "colab_type": "text"
      },
      "source": [
        "<a href=\"https://colab.research.google.com/github/jlcaballero999/tareas_tec/blob/main/coor_2_pols.ipynb\" target=\"_parent\"><img src=\"https://colab.research.google.com/assets/colab-badge.svg\" alt=\"Open In Colab\"/></a>"
      ]
    },
    {
      "cell_type": "markdown",
      "source": [
        "Instlacion de bibliotecas necesarias"
      ],
      "metadata": {
        "id": "LMT-tmeepwVR"
      }
    },
    {
      "cell_type": "code",
      "source": [
        "!pip install pandas geopandas pyproj shapely"
      ],
      "metadata": {
        "colab": {
          "base_uri": "https://localhost:8080/"
        },
        "id": "9Y2BthpOp8rA",
        "outputId": "30f5e48a-1153-49bb-e98d-cf256e9bfee1"
      },
      "execution_count": 1,
      "outputs": [
        {
          "output_type": "stream",
          "name": "stdout",
          "text": [
            "Requirement already satisfied: pandas in /usr/local/lib/python3.10/dist-packages (2.2.2)\n",
            "Requirement already satisfied: geopandas in /usr/local/lib/python3.10/dist-packages (1.0.1)\n",
            "Requirement already satisfied: pyproj in /usr/local/lib/python3.10/dist-packages (3.7.0)\n",
            "Requirement already satisfied: shapely in /usr/local/lib/python3.10/dist-packages (2.0.6)\n",
            "Requirement already satisfied: numpy>=1.22.4 in /usr/local/lib/python3.10/dist-packages (from pandas) (1.26.4)\n",
            "Requirement already satisfied: python-dateutil>=2.8.2 in /usr/local/lib/python3.10/dist-packages (from pandas) (2.8.2)\n",
            "Requirement already satisfied: pytz>=2020.1 in /usr/local/lib/python3.10/dist-packages (from pandas) (2024.2)\n",
            "Requirement already satisfied: tzdata>=2022.7 in /usr/local/lib/python3.10/dist-packages (from pandas) (2024.2)\n",
            "Requirement already satisfied: pyogrio>=0.7.2 in /usr/local/lib/python3.10/dist-packages (from geopandas) (0.10.0)\n",
            "Requirement already satisfied: packaging in /usr/local/lib/python3.10/dist-packages (from geopandas) (24.2)\n",
            "Requirement already satisfied: certifi in /usr/local/lib/python3.10/dist-packages (from pyproj) (2024.8.30)\n",
            "Requirement already satisfied: six>=1.5 in /usr/local/lib/python3.10/dist-packages (from python-dateutil>=2.8.2->pandas) (1.17.0)\n"
          ]
        }
      ]
    },
    {
      "cell_type": "markdown",
      "source": [
        " Importar bibliotecas"
      ],
      "metadata": {
        "id": "qn3Z0yMKqMwv"
      }
    },
    {
      "cell_type": "code",
      "source": [
        "import pandas as pd\n",
        "import numpy as np\n",
        "import geopandas as gpd\n",
        "from shapely.geometry import Polygon\n",
        "import re"
      ],
      "metadata": {
        "id": "5mP7ignAqF_P"
      },
      "execution_count": 2,
      "outputs": []
    },
    {
      "cell_type": "code",
      "source": [
        "from google.colab import drive\n",
        "drive.mount('/content/drive')"
      ],
      "metadata": {
        "id": "51ri4vYXrJJp",
        "outputId": "e9f26a42-392f-4da1-e00d-698b7d79346a",
        "colab": {
          "base_uri": "https://localhost:8080/"
        }
      },
      "execution_count": 3,
      "outputs": [
        {
          "output_type": "stream",
          "name": "stdout",
          "text": [
            "Mounted at /content/drive\n"
          ]
        }
      ]
    },
    {
      "cell_type": "markdown",
      "source": [
        "validar rutas para correr desde drive\n"
      ],
      "metadata": {
        "id": "_YbFf39ariob"
      }
    },
    {
      "cell_type": "code",
      "source": [
        "data_path = \"/content/drive/My Drive/01_in_coor_csv/NAX_6829594.csv\""
      ],
      "metadata": {
        "id": "_peaMkxDrfCD"
      },
      "execution_count": null,
      "outputs": []
    },
    {
      "cell_type": "markdown",
      "source": [
        "Levantar csv"
      ],
      "metadata": {
        "id": "i4QuLSiHrorw"
      }
    },
    {
      "cell_type": "code",
      "source": [
        "base = pd.read_csv(data_path, encoding=\"ISO-8859-1\")\n",
        "base.columns = base.columns.str.strip().str.lower()  # Normalizar nombres de columna\n",
        "base = base.dropna(subset=['coordenadas'])  # Filtrar filas con coordenadas no nulas\n",
        "\n",
        "print(base.head())"
      ],
      "metadata": {
        "id": "MkD5pOuArrez"
      },
      "execution_count": null,
      "outputs": []
    },
    {
      "cell_type": "markdown",
      "source": [
        "Crear nombres de columna dinámicos para coordenadas"
      ],
      "metadata": {
        "id": "uKjdYGbxry0M"
      }
    },
    {
      "cell_type": "code",
      "source": [
        "max_coords = base['coordenadas'].str.count(',').max() + 1  # Calcular el número máximo de coordenadas\n",
        "coord_cols = [f'C{i}' for i in range(1, max_coords + 1)]"
      ],
      "metadata": {
        "id": "5yVtuCoQr1W9"
      },
      "execution_count": null,
      "outputs": []
    },
    {
      "cell_type": "markdown",
      "source": [
        "Separar las coordenadas en columnas individuales"
      ],
      "metadata": {
        "id": "pSeFA4rzr6Bj"
      }
    },
    {
      "cell_type": "code",
      "source": [
        "base[coord_cols] = base['coordenadas'].str.split('|', expand=True)\n",
        "base['id_consecutivo'] = range(1, len(base) + 1)\n",
        "\n",
        "print(base.head())"
      ],
      "metadata": {
        "id": "dmjMYa52r-vN"
      },
      "execution_count": null,
      "outputs": []
    },
    {
      "cell_type": "markdown",
      "source": [
        "Reorganizar los datos de formato ancho a largo y separar Latitud y Longitud"
      ],
      "metadata": {
        "id": "YAnVNW3msBnT"
      }
    },
    {
      "cell_type": "code",
      "source": [
        "base_long = base.melt(\n",
        "    id_vars=['id_consecutivo'],\n",
        "    value_vars=coord_cols,\n",
        "    var_name='coord_num',\n",
        "    value_name='coords'\n",
        ").dropna(subset=['coords'])\n",
        "\n",
        "# Separar Latitud y Longitud\n",
        "base_long[['latitud', 'longitud']] = base_long['coords'].str.split(',', expand=True)\n",
        "base_long['latitud'] = base_long['latitud'].str.strip()\n",
        "base_long['longitud'] = base_long['longitud'].str.strip()\n",
        "\n",
        "print(base_long.head())"
      ],
      "metadata": {
        "id": "bjlkX7BnsBe2"
      },
      "execution_count": null,
      "outputs": []
    },
    {
      "cell_type": "markdown",
      "source": [
        "Convertir coordenadas"
      ],
      "metadata": {
        "id": "CwmZlYpBsIAZ"
      }
    },
    {
      "cell_type": "code",
      "source": [
        "def convertir_gms_a_decimal(gms):\n",
        "    if not isinstance(gms, str):\n",
        "        return np.nan\n",
        "    match = re.match(r\"(\\d+)°(\\d+)'(\\d+(\\.\\d+)?)\\\"?\\s?([NSEW])\", gms)\n",
        "    if match:\n",
        "        grados, minutos, segundos, _, hemisferio = match.groups()\n",
        "        decimal = float(grados) + float(minutos)/60 + float(segundos)/3600\n",
        "        if hemisferio in ['S', 'W']:\n",
        "            return -decimal\n",
        "        return decimal\n",
        "    return float(gms) if gms.replace('.', '', 1).isdigit() else np.nan\n",
        "\n",
        "base_long['latitud'] = base_long['latitud'].apply(convertir_gms_a_decimal)\n",
        "base_long['longitud'] = base_long['longitud'].apply(convertir_gms_a_decimal)"
      ],
      "metadata": {
        "id": "qtM_G5YxsGn6"
      },
      "execution_count": null,
      "outputs": []
    },
    {
      "cell_type": "markdown",
      "source": [
        "Convertir a GeoDataFrame ♈"
      ],
      "metadata": {
        "id": "hGGzL4crsGdu"
      }
    },
    {
      "cell_type": "code",
      "source": [
        "geometry = gpd.points_from_xy(base_long['longitud'], base_long['latitud'])\n",
        "data_sf = gpd.GeoDataFrame(base_long, geometry=geometry, crs=\"EPSG:4326\")\n"
      ],
      "metadata": {
        "id": "jwOebF02sGTw"
      },
      "execution_count": null,
      "outputs": []
    },
    {
      "cell_type": "markdown",
      "source": [
        "Filtrar geometrías válidas y crear polígonos"
      ],
      "metadata": {
        "id": "LSzLX317sGID"
      }
    },
    {
      "cell_type": "code",
      "source": [
        "data_sf = data_sf.groupby('id_consecutivo').filter(lambda x: x['geometry'].nunique() >= 3)\n",
        "polygons = data_sf.groupby('id_consecutivo')['geometry'].apply(lambda x: Polygon(x.tolist()))\n",
        "data_sf = gpd.GeoDataFrame({'geometry': polygons}, crs=\"EPSG:4326\").reset_index()"
      ],
      "metadata": {
        "id": "WR2ieOXosZJS"
      },
      "execution_count": null,
      "outputs": []
    },
    {
      "cell_type": "markdown",
      "source": [
        "Unir atributos originales"
      ],
      "metadata": {
        "id": "6LpCidyIsejQ"
      }
    },
    {
      "cell_type": "code",
      "source": [
        "atributos_originales = base.drop(columns=coord_cols)\n",
        "data_sf = data_sf.merge(atributos_originales, on='id_consecutivo', how='left')"
      ],
      "metadata": {
        "id": "rHvS9RzRsleW"
      },
      "execution_count": null,
      "outputs": []
    },
    {
      "cell_type": "markdown",
      "source": [
        " Guardar  GeoPackage"
      ],
      "metadata": {
        "id": "BrjrlMdNspQl"
      }
    },
    {
      "cell_type": "code",
      "source": [
        "output_path = \"NAX_6829594.gpkg\"\n",
        "data_sf.to_file(output_path, driver=\"GPKG\")\n",
        "\n",
        "print(\"GeoPackage guardado en:\", output_path)"
      ],
      "metadata": {
        "id": "b1wzFI4zsrCS"
      },
      "execution_count": null,
      "outputs": []
    }
  ],
  "metadata": {
    "colab": {
      "name": "Te damos la bienvenida a Colaboratory",
      "provenance": [],
      "include_colab_link": true
    },
    "kernelspec": {
      "display_name": "Python 3",
      "name": "python3"
    }
  },
  "nbformat": 4,
  "nbformat_minor": 0
}